{
 "cells": [
  {
   "cell_type": "code",
   "execution_count": 14,
   "id": "suited-supplement",
   "metadata": {},
   "outputs": [],
   "source": [
    "%config Completer.use_jedi = False"
   ]
  },
  {
   "cell_type": "code",
   "execution_count": 2,
   "id": "major-rental",
   "metadata": {
    "lines_to_next_cell": 2
   },
   "outputs": [],
   "source": [
    "import re\n",
    "\n",
    "import requests as r\n",
    "import pandas as pd\n",
    "\n",
    "from secrets import client_id, client_secret"
   ]
  },
  {
   "cell_type": "code",
   "execution_count": 16,
   "id": "chubby-tennessee",
   "metadata": {},
   "outputs": [],
   "source": [
    "class Song:\n",
    "    def __init__(self, name, album, artist,\n",
    "                 spotify_id=None,\n",
    "                 apple_id=None,\n",
    "                 spotify_playlist=None,\n",
    "                 apple_playlist=None):\n",
    "        \n",
    "        self.name = name\n",
    "        self.album = album\n",
    "        self.artist = artist\n",
    "        self.spotify_id = spotify_id\n",
    "        self.apple_id = apple_id\n",
    "        self.spotify_playlist = spotify_playlist\n",
    "        self.apple_playlist = apple_playlist\n",
    "    \n",
    "    def get_spotify_info():\n",
    "        pass\n",
    "    \n",
    "    def get_apple_info():\n",
    "        pass\n",
    "    \n",
    "    def add_to_spotify():\n",
    "        pass\n",
    "    \n",
    "    def add_to_apple():\n",
    "        pass"
   ]
  },
  {
   "cell_type": "code",
   "execution_count": 4,
   "id": "pending-cleaner",
   "metadata": {},
   "outputs": [],
   "source": [
    "def get_spotify_playlist_id(url):\n",
    "    p = re.compile('https://open.spotify.com/playlist/(.+)')\n",
    "    m = re.match(p, url)\n",
    "    return m[1]"
   ]
  },
  {
   "cell_type": "code",
   "execution_count": 5,
   "id": "numeric-equity",
   "metadata": {},
   "outputs": [],
   "source": [
    "test_playlist = 'https://open.spotify.com/playlist/7xOi7xa4yqhPRUeB1BM6v4'"
   ]
  },
  {
   "cell_type": "code",
   "execution_count": 6,
   "id": "british-virgin",
   "metadata": {},
   "outputs": [],
   "source": [
    "AUTH_URL = 'https://accounts.spotify.com/api/token'\n",
    "BASE_URL = 'https://api.spotify.com/v1'"
   ]
  },
  {
   "cell_type": "code",
   "execution_count": 7,
   "id": "recreational-clinton",
   "metadata": {},
   "outputs": [],
   "source": [
    "auth_response = r.post(AUTH_URL, {\n",
    "    'grant_type': 'client_credentials',\n",
    "    'client_id': client_id,\n",
    "    'client_secret': client_secret\n",
    "})"
   ]
  },
  {
   "cell_type": "code",
   "execution_count": 8,
   "id": "upset-worship",
   "metadata": {},
   "outputs": [],
   "source": [
    "auth_response_data = auth_response.json()\n",
    "access_token = auth_response_data['access_token']"
   ]
  },
  {
   "cell_type": "code",
   "execution_count": 9,
   "id": "approximate-president",
   "metadata": {},
   "outputs": [],
   "source": [
    "headers = {'Authorization': f'Bearer {access_token}'}"
   ]
  },
  {
   "cell_type": "code",
   "execution_count": 10,
   "id": "looking-argument",
   "metadata": {
    "tags": []
   },
   "outputs": [],
   "source": [
    "playlist_id = get_spotify_playlist_id(test_playlist)\n",
    "\n",
    "test_playlist_resp = r.get(f'{BASE_URL}/playlists/{playlist_id}',\n",
    "                          headers=headers)"
   ]
  },
  {
   "cell_type": "code",
   "execution_count": 12,
   "id": "economic-strategy",
   "metadata": {},
   "outputs": [],
   "source": [
    "playlist_info = test_playlist_resp.json()\n",
    "playlist_track_items = playlist_info['tracks']['items']\n",
    "\n",
    "songs = []\n",
    "\n",
    "for i in range(len(playlist_track_items)):\n",
    "    track_name = playlist_track_items[i]['track']['name']\n",
    "    album_name = playlist_track_items[i]['track']['album']['name']\n",
    "    artists = []\n",
    "    \n",
    "    for artist in playlist_info['tracks']['items'][i]['track']['artists']:\n",
    "        artists.append(artist['name'])\n",
    "    \n",
    "    songs.append(Song(track_name, album_name, artists, playlist_id))"
   ]
  },
  {
   "cell_type": "code",
   "execution_count": 13,
   "id": "threatened-excerpt",
   "metadata": {},
   "outputs": [
    {
     "data": {
      "text/plain": [
       "{'name': 'LK',\n",
       " 'album': 'In Rotation',\n",
       " 'artist': ['DJ Marky', 'XRS'],\n",
       " 'spotify_playlist': '7xOi7xa4yqhPRUeB1BM6v4',\n",
       " 'apple_playlist': None}"
      ]
     },
     "metadata": {},
     "output_type": "display_data"
    },
    {
     "name": "stdout",
     "output_type": "stream",
     "text": [
      "\n"
     ]
    },
    {
     "data": {
      "text/plain": [
       "{'name': 'Ragga Tip (Walk & Skank) - Original Mix',\n",
       " 'album': 'Ragga Tip',\n",
       " 'artist': ['Ed Solo', 'Deekline'],\n",
       " 'spotify_playlist': '7xOi7xa4yqhPRUeB1BM6v4',\n",
       " 'apple_playlist': None}"
      ]
     },
     "metadata": {},
     "output_type": "display_data"
    },
    {
     "name": "stdout",
     "output_type": "stream",
     "text": [
      "\n"
     ]
    },
    {
     "data": {
      "text/plain": [
       "{'name': 'UK All Stars In Dub - Adrian Sherwood Remix',\n",
       " 'album': 'Jungle Revolution in Dub',\n",
       " 'artist': ['Congo Natty', 'Adrian Sherwood'],\n",
       " 'spotify_playlist': '7xOi7xa4yqhPRUeB1BM6v4',\n",
       " 'apple_playlist': None}"
      ]
     },
     "metadata": {},
     "output_type": "display_data"
    },
    {
     "name": "stdout",
     "output_type": "stream",
     "text": [
      "\n"
     ]
    },
    {
     "data": {
      "text/plain": [
       "{'name': 'Top Rankin - Original Mix',\n",
       " 'album': 'Welcome To The Jungle: The Ultimate Jungle Cakes Drum & Bass Compilation (Copy)',\n",
       " 'artist': ['Deekline', 'Ed Solo'],\n",
       " 'spotify_playlist': '7xOi7xa4yqhPRUeB1BM6v4',\n",
       " 'apple_playlist': None}"
      ]
     },
     "metadata": {},
     "output_type": "display_data"
    },
    {
     "name": "stdout",
     "output_type": "stream",
     "text": [
      "\n"
     ]
    },
    {
     "data": {
      "text/plain": [
       "{'name': 'Bad Boy Patrol',\n",
       " 'album': 'Bad Boy Patrol',\n",
       " 'artist': ['Chopstick Dubplate', 'Daddy Freddy'],\n",
       " 'spotify_playlist': '7xOi7xa4yqhPRUeB1BM6v4',\n",
       " 'apple_playlist': None}"
      ]
     },
     "metadata": {},
     "output_type": "display_data"
    },
    {
     "name": "stdout",
     "output_type": "stream",
     "text": [
      "\n"
     ]
    },
    {
     "data": {
      "text/plain": [
       "{'name': \"No No No (You Don't Love Me)\",\n",
       " 'album': 'No No No',\n",
       " 'artist': ['Ed Solo', 'Deekline'],\n",
       " 'spotify_playlist': '7xOi7xa4yqhPRUeB1BM6v4',\n",
       " 'apple_playlist': None}"
      ]
     },
     "metadata": {},
     "output_type": "display_data"
    },
    {
     "name": "stdout",
     "output_type": "stream",
     "text": [
      "\n"
     ]
    },
    {
     "data": {
      "text/plain": [
       "{'name': 'Notorious - Vital Elements Mix',\n",
       " 'album': 'Notorious (feat. Congo Natty)',\n",
       " 'artist': ['Nanci & Phoebe', 'Congo Natty'],\n",
       " 'spotify_playlist': '7xOi7xa4yqhPRUeB1BM6v4',\n",
       " 'apple_playlist': None}"
      ]
     },
     "metadata": {},
     "output_type": "display_data"
    },
    {
     "name": "stdout",
     "output_type": "stream",
     "text": [
      "\n"
     ]
    },
    {
     "data": {
      "text/plain": [
       "{'name': 'Get Ready',\n",
       " 'album': 'Jungle Revolution',\n",
       " 'artist': ['Congo Natty'],\n",
       " 'spotify_playlist': '7xOi7xa4yqhPRUeB1BM6v4',\n",
       " 'apple_playlist': None}"
      ]
     },
     "metadata": {},
     "output_type": "display_data"
    },
    {
     "name": "stdout",
     "output_type": "stream",
     "text": [
      "\n"
     ]
    },
    {
     "data": {
      "text/plain": [
       "{'name': 'Blind To You - Original Mix',\n",
       " 'album': 'Jungle Cakes, Vol. 18',\n",
       " 'artist': ['Ricky Tuff'],\n",
       " 'spotify_playlist': '7xOi7xa4yqhPRUeB1BM6v4',\n",
       " 'apple_playlist': None}"
      ]
     },
     "metadata": {},
     "output_type": "display_data"
    },
    {
     "name": "stdout",
     "output_type": "stream",
     "text": [
      "\n"
     ]
    },
    {
     "data": {
      "text/plain": [
       "{'name': 'Duppy Sound',\n",
       " 'album': 'Duppy Sound',\n",
       " 'artist': ['Serial Killaz', 'Ragga Twins'],\n",
       " 'spotify_playlist': '7xOi7xa4yqhPRUeB1BM6v4',\n",
       " 'apple_playlist': None}"
      ]
     },
     "metadata": {},
     "output_type": "display_data"
    },
    {
     "name": "stdout",
     "output_type": "stream",
     "text": [
      "\n"
     ]
    },
    {
     "data": {
      "text/plain": [
       "{'name': 'This Town (feat. Tippa Irie & Horseman)',\n",
       " 'album': 'FM',\n",
       " 'artist': ['The Skints'],\n",
       " 'spotify_playlist': '7xOi7xa4yqhPRUeB1BM6v4',\n",
       " 'apple_playlist': None}"
      ]
     },
     "metadata": {},
     "output_type": "display_data"
    },
    {
     "name": "stdout",
     "output_type": "stream",
     "text": [
      "\n"
     ]
    },
    {
     "data": {
      "text/plain": [
       "{'name': \"It's All Love - Original Mix\",\n",
       " 'album': 'Jungle Cakes, Vol. 13',\n",
       " 'artist': ['Ricky Tuff'],\n",
       " 'spotify_playlist': '7xOi7xa4yqhPRUeB1BM6v4',\n",
       " 'apple_playlist': None}"
      ]
     },
     "metadata": {},
     "output_type": "display_data"
    },
    {
     "name": "stdout",
     "output_type": "stream",
     "text": [
      "\n"
     ]
    },
    {
     "data": {
      "text/plain": [
       "{'name': 'Bruck Beyond Broke',\n",
       " 'album': 'Snake EP 2',\n",
       " 'artist': ['P Money'],\n",
       " 'spotify_playlist': '7xOi7xa4yqhPRUeB1BM6v4',\n",
       " 'apple_playlist': None}"
      ]
     },
     "metadata": {},
     "output_type": "display_data"
    },
    {
     "name": "stdout",
     "output_type": "stream",
     "text": [
      "\n"
     ]
    },
    {
     "data": {
      "text/plain": [
       "{'name': '6 In The Morning',\n",
       " 'album': '6 In The Morning',\n",
       " 'artist': ['Wiley'],\n",
       " 'spotify_playlist': '7xOi7xa4yqhPRUeB1BM6v4',\n",
       " 'apple_playlist': None}"
      ]
     },
     "metadata": {},
     "output_type": "display_data"
    },
    {
     "name": "stdout",
     "output_type": "stream",
     "text": [
      "\n"
     ]
    },
    {
     "data": {
      "text/plain": [
       "{'name': 'Gossip',\n",
       " 'album': 'Gossip',\n",
       " 'artist': ['Fekky', 'Giggs'],\n",
       " 'spotify_playlist': '7xOi7xa4yqhPRUeB1BM6v4',\n",
       " 'apple_playlist': None}"
      ]
     },
     "metadata": {},
     "output_type": "display_data"
    },
    {
     "name": "stdout",
     "output_type": "stream",
     "text": [
      "\n"
     ]
    },
    {
     "data": {
      "text/plain": [
       "{'name': \"P's and Q's\",\n",
       " 'album': 'Home Sweet Home',\n",
       " 'artist': ['Kano'],\n",
       " 'spotify_playlist': '7xOi7xa4yqhPRUeB1BM6v4',\n",
       " 'apple_playlist': None}"
      ]
     },
     "metadata": {},
     "output_type": "display_data"
    },
    {
     "name": "stdout",
     "output_type": "stream",
     "text": [
      "\n"
     ]
    },
    {
     "data": {
      "text/plain": [
       "{'name': 'Jamrock Takeover',\n",
       " 'album': 'Focus Mode',\n",
       " 'artist': ['Klashnekoff'],\n",
       " 'spotify_playlist': '7xOi7xa4yqhPRUeB1BM6v4',\n",
       " 'apple_playlist': None}"
      ]
     },
     "metadata": {},
     "output_type": "display_data"
    },
    {
     "name": "stdout",
     "output_type": "stream",
     "text": [
      "\n"
     ]
    },
    {
     "data": {
      "text/plain": [
       "{'name': 'Ring di alarm - Original Mix',\n",
       " 'album': 'Isaac Maya Great hits',\n",
       " 'artist': ['Isaac Maya'],\n",
       " 'spotify_playlist': '7xOi7xa4yqhPRUeB1BM6v4',\n",
       " 'apple_playlist': None}"
      ]
     },
     "metadata": {},
     "output_type": "display_data"
    },
    {
     "name": "stdout",
     "output_type": "stream",
     "text": [
      "\n"
     ]
    },
    {
     "data": {
      "text/plain": [
       "{'name': 'Jamaican Boy',\n",
       " 'album': 'Good Enough / Jamaican Boy',\n",
       " 'artist': ['Serial Killaz'],\n",
       " 'spotify_playlist': '7xOi7xa4yqhPRUeB1BM6v4',\n",
       " 'apple_playlist': None}"
      ]
     },
     "metadata": {},
     "output_type": "display_data"
    },
    {
     "name": "stdout",
     "output_type": "stream",
     "text": [
      "\n"
     ]
    },
    {
     "data": {
      "text/plain": [
       "{'name': 'On the Run',\n",
       " 'album': 'Diary of a Digital Soundboy',\n",
       " 'artist': ['SHY FX'],\n",
       " 'spotify_playlist': '7xOi7xa4yqhPRUeB1BM6v4',\n",
       " 'apple_playlist': None}"
      ]
     },
     "metadata": {},
     "output_type": "display_data"
    },
    {
     "name": "stdout",
     "output_type": "stream",
     "text": [
      "\n"
     ]
    },
    {
     "data": {
      "text/plain": [
       "{'name': 'UK Allstars - Congo Natty Meets Benny Page - Radio Edit',\n",
       " 'album': 'UK Allstars (Congo Natty Meets Benny Page - Radio Edit)',\n",
       " 'artist': ['Congo Natty',\n",
       "  'Tenor Fly',\n",
       "  'Top Cat',\n",
       "  'General Levy',\n",
       "  'Tippa Irie',\n",
       "  'Sweetie Irie',\n",
       "  'Daddy Freddy'],\n",
       " 'spotify_playlist': '7xOi7xa4yqhPRUeB1BM6v4',\n",
       " 'apple_playlist': None}"
      ]
     },
     "metadata": {},
     "output_type": "display_data"
    },
    {
     "name": "stdout",
     "output_type": "stream",
     "text": [
      "\n"
     ]
    },
    {
     "data": {
      "text/plain": [
       "{'name': 'Lock Doh',\n",
       " 'album': 'Landlord',\n",
       " 'artist': ['Giggs', \"Donae'o\"],\n",
       " 'spotify_playlist': '7xOi7xa4yqhPRUeB1BM6v4',\n",
       " 'apple_playlist': None}"
      ]
     },
     "metadata": {},
     "output_type": "display_data"
    },
    {
     "name": "stdout",
     "output_type": "stream",
     "text": [
      "\n"
     ]
    },
    {
     "data": {
      "text/plain": [
       "{'name': 'Rebel',\n",
       " 'album': 'Jungle Revolution',\n",
       " 'artist': ['Congo Natty'],\n",
       " 'spotify_playlist': '7xOi7xa4yqhPRUeB1BM6v4',\n",
       " 'apple_playlist': None}"
      ]
     },
     "metadata": {},
     "output_type": "display_data"
    },
    {
     "name": "stdout",
     "output_type": "stream",
     "text": [
      "\n"
     ]
    },
    {
     "data": {
      "text/plain": [
       "{'name': 'Champagne Body',\n",
       " 'album': 'Wickedness Increase',\n",
       " 'artist': ['General Levy'],\n",
       " 'spotify_playlist': '7xOi7xa4yqhPRUeB1BM6v4',\n",
       " 'apple_playlist': None}"
      ]
     },
     "metadata": {},
     "output_type": "display_data"
    },
    {
     "name": "stdout",
     "output_type": "stream",
     "text": [
      "\n"
     ]
    },
    {
     "data": {
      "text/plain": [
       "{'name': 'When mi rise it',\n",
       " 'album': 'Crystal Woman & Musik - Two Riddim Sampler',\n",
       " 'artist': ['Lutan Fyah'],\n",
       " 'spotify_playlist': '7xOi7xa4yqhPRUeB1BM6v4',\n",
       " 'apple_playlist': None}"
      ]
     },
     "metadata": {},
     "output_type": "display_data"
    },
    {
     "name": "stdout",
     "output_type": "stream",
     "text": [
      "\n"
     ]
    },
    {
     "data": {
      "text/plain": [
       "{'name': 'Too Many Man',\n",
       " 'album': 'Microphone Champion',\n",
       " 'artist': ['Skepta', 'BBK'],\n",
       " 'spotify_playlist': '7xOi7xa4yqhPRUeB1BM6v4',\n",
       " 'apple_playlist': None}"
      ]
     },
     "metadata": {},
     "output_type": "display_data"
    },
    {
     "name": "stdout",
     "output_type": "stream",
     "text": [
      "\n"
     ]
    },
    {
     "data": {
      "text/plain": [
       "{'name': 'Pow (Forward)',\n",
       " 'album': 'Forward',\n",
       " 'artist': ['Lethal Bizzle'],\n",
       " 'spotify_playlist': '7xOi7xa4yqhPRUeB1BM6v4',\n",
       " 'apple_playlist': None}"
      ]
     },
     "metadata": {},
     "output_type": "display_data"
    },
    {
     "name": "stdout",
     "output_type": "stream",
     "text": [
      "\n"
     ]
    },
    {
     "data": {
      "text/plain": [
       "{'name': 'Watch Your Mouth',\n",
       " 'album': 'Walk With Me',\n",
       " 'artist': ['Bugzy Malone'],\n",
       " 'spotify_playlist': '7xOi7xa4yqhPRUeB1BM6v4',\n",
       " 'apple_playlist': None}"
      ]
     },
     "metadata": {},
     "output_type": "display_data"
    },
    {
     "name": "stdout",
     "output_type": "stream",
     "text": [
      "\n"
     ]
    },
    {
     "data": {
      "text/plain": [
       "{'name': 'Shutdown',\n",
       " 'album': 'Konnichiwa',\n",
       " 'artist': ['Skepta'],\n",
       " 'spotify_playlist': '7xOi7xa4yqhPRUeB1BM6v4',\n",
       " 'apple_playlist': None}"
      ]
     },
     "metadata": {},
     "output_type": "display_data"
    },
    {
     "name": "stdout",
     "output_type": "stream",
     "text": [
      "\n"
     ]
    },
    {
     "data": {
      "text/plain": [
       "{'name': 'Drum and Bass Father',\n",
       " 'album': \"Devilman's State of Mind\",\n",
       " 'artist': ['Devilman', 'Badness'],\n",
       " 'spotify_playlist': '7xOi7xa4yqhPRUeB1BM6v4',\n",
       " 'apple_playlist': None}"
      ]
     },
     "metadata": {},
     "output_type": "display_data"
    },
    {
     "name": "stdout",
     "output_type": "stream",
     "text": [
      "\n"
     ]
    },
    {
     "data": {
      "text/plain": [
       "{'name': 'Endz',\n",
       " 'album': 'Made in the Manor',\n",
       " 'artist': ['Kano'],\n",
       " 'spotify_playlist': '7xOi7xa4yqhPRUeB1BM6v4',\n",
       " 'apple_playlist': None}"
      ]
     },
     "metadata": {},
     "output_type": "display_data"
    },
    {
     "name": "stdout",
     "output_type": "stream",
     "text": [
      "\n"
     ]
    },
    {
     "data": {
      "text/plain": [
       "{'name': 'Dude',\n",
       " 'album': 'Dude',\n",
       " 'artist': ['Lethal Bizzle', 'Stormzy'],\n",
       " 'spotify_playlist': '7xOi7xa4yqhPRUeB1BM6v4',\n",
       " 'apple_playlist': None}"
      ]
     },
     "metadata": {},
     "output_type": "display_data"
    },
    {
     "name": "stdout",
     "output_type": "stream",
     "text": [
      "\n"
     ]
    },
    {
     "data": {
      "text/plain": [
       "{'name': 'German Whip',\n",
       " 'album': 'German Whip',\n",
       " 'artist': ['Meridian Dan', 'Big H', 'Jme'],\n",
       " 'spotify_playlist': '7xOi7xa4yqhPRUeB1BM6v4',\n",
       " 'apple_playlist': None}"
      ]
     },
     "metadata": {},
     "output_type": "display_data"
    },
    {
     "name": "stdout",
     "output_type": "stream",
     "text": [
      "\n"
     ]
    },
    {
     "data": {
      "text/plain": [
       "{'name': 'Relegation Riddim',\n",
       " 'album': 'Relegation Riddim',\n",
       " 'artist': ['Bugzy Malone'],\n",
       " 'spotify_playlist': '7xOi7xa4yqhPRUeB1BM6v4',\n",
       " 'apple_playlist': None}"
      ]
     },
     "metadata": {},
     "output_type": "display_data"
    },
    {
     "name": "stdout",
     "output_type": "stream",
     "text": [
      "\n"
     ]
    },
    {
     "data": {
      "text/plain": [
       "{'name': 'Fester Skank',\n",
       " 'album': 'Fester Skank',\n",
       " 'artist': ['Lethal Bizzle', 'Diztortion'],\n",
       " 'spotify_playlist': '7xOi7xa4yqhPRUeB1BM6v4',\n",
       " 'apple_playlist': None}"
      ]
     },
     "metadata": {},
     "output_type": "display_data"
    },
    {
     "name": "stdout",
     "output_type": "stream",
     "text": [
      "\n"
     ]
    },
    {
     "data": {
      "text/plain": [
       "{'name': 'Comfy',\n",
       " 'album': 'Comfy',\n",
       " 'artist': ['Yungen'],\n",
       " 'spotify_playlist': '7xOi7xa4yqhPRUeB1BM6v4',\n",
       " 'apple_playlist': None}"
      ]
     },
     "metadata": {},
     "output_type": "display_data"
    },
    {
     "name": "stdout",
     "output_type": "stream",
     "text": [
      "\n"
     ]
    },
    {
     "data": {
      "text/plain": [
       "{'name': \"A Roadman's Hymn\",\n",
       " 'album': 'Made in the Manor',\n",
       " 'artist': ['Kano'],\n",
       " 'spotify_playlist': '7xOi7xa4yqhPRUeB1BM6v4',\n",
       " 'apple_playlist': None}"
      ]
     },
     "metadata": {},
     "output_type": "display_data"
    },
    {
     "name": "stdout",
     "output_type": "stream",
     "text": [
      "\n"
     ]
    }
   ],
   "source": [
    "for x in songs:\n",
    "    display(vars(x))\n",
    "    print()"
   ]
  }
 ],
 "metadata": {
  "jupytext": {
   "formats": "ipynb,py:percent"
  },
  "kernelspec": {
   "display_name": "Python 3",
   "language": "python",
   "name": "python3"
  },
  "language_info": {
   "codemirror_mode": {
    "name": "ipython",
    "version": 3
   },
   "file_extension": ".py",
   "mimetype": "text/x-python",
   "name": "python",
   "nbconvert_exporter": "python",
   "pygments_lexer": "ipython3",
   "version": "3.8.5"
  }
 },
 "nbformat": 4,
 "nbformat_minor": 5
}
